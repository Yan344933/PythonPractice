{
  "nbformat": 4,
  "nbformat_minor": 0,
  "metadata": {
    "colab": {
      "provenance": [],
      "include_colab_link": true
    },
    "kernelspec": {
      "name": "python3",
      "display_name": "Python 3"
    }
  },
  "cells": [
    {
      "cell_type": "markdown",
      "metadata": {
        "id": "view-in-github",
        "colab_type": "text"
      },
      "source": [
        "<a href=\"https://colab.research.google.com/github/Yan344933/PythonPractice/blob/PageRank/assignment2_pagerank.ipynb\" target=\"_parent\"><img src=\"https://colab.research.google.com/assets/colab-badge.svg\" alt=\"Open In Colab\"/></a>"
      ]
    },
    {
      "cell_type": "markdown",
      "metadata": {
        "id": "x36kyK_ssIhz"
      },
      "source": [
        "## ISOM 3370 Assignment 2  \n",
        "\n",
        "PageRank is an algorithm used by Google to rank web pages in the search engine results. PageRank is an iterative algorithm which is a perfect fit for Spark. In this question, you will implement PageRank algorithm with PySpark by completing the following codes."
      ]
    },
    {
      "cell_type": "code",
      "metadata": {
        "id": "M3c82UlPsGhv"
      },
      "source": [
        "!apt-get install openjdk-8-jdk-headless -qq > /dev/null\n",
        "!wget -q https://www-us.apache.org/dist/spark/spark-2.4.5/spark-2.4.5-bin-hadoop2.7.tgz\n",
        "!tar xf spark-2.4.5-bin-hadoop2.7.tgz\n",
        "!pip install -q findspark\n",
        "import os\n",
        "\n",
        "os.environ[\"JAVA_HOME\"] = \"/usr/lib/jvm/java-8-openjdk-amd64\"\n",
        "os.environ[\"SPARK_HOME\"] = \"/content/spark-2.4.5-bin-hadoop2.7\"\n",
        "\n",
        "import findspark\n",
        "findspark.init()\n",
        "\n",
        "from pyspark.sql import SparkSession\n",
        "spark = SparkSession.builder.master(\"local[*]\").getOrCreate()\n",
        "sc = spark.sparkContext\n",
        "\n",
        "!wget -q https://www.dropbox.com/s/dylx9471funotis/network.txt"
      ],
      "execution_count": null,
      "outputs": []
    },
    {
      "cell_type": "markdown",
      "metadata": {
        "id": "GejG0GIWsPGA"
      },
      "source": [
        "First, we load the sample network file in Spark RDD, as below.\n",
        "\n",
        "This file has format: **source_page target_page**. Below is the content of the file.\n",
        "\n",
        "\n",
        "page1 page3\n",
        "\n",
        "page2 page1\n",
        "\n",
        "page4 page1\n",
        "\n",
        "page3 page1\n",
        "\n",
        "page4 page2\n",
        "\n",
        "page3 page4\n",
        "\n",
        "Run the following cells, and complete the cells."
      ]
    },
    {
      "cell_type": "code",
      "metadata": {
        "id": "nz8LoiHWsOCD"
      },
      "source": [
        "!apt-get install openjdk-8-jdk-headless -qq > /dev/null\n",
        "!wget -q https://www-us.apache.org/dist/spark/spark-2.4.5/spark-2.4.5-bin-hadoop2.7.tgz\n",
        "!tar xf spark-2.4.5-bin-hadoop2.7.tgz\n",
        "!pip install -q findspark\n",
        "import os\n",
        "\n",
        "os.environ[\"JAVA_HOME\"] = \"/usr/lib/jvm/java-8-openjdk-amd64\"\n",
        "os.environ[\"SPARK_HOME\"] = \"/content/spark-2.4.5-bin-hadoop2.7\"\n",
        "\n",
        "import findspark\n",
        "findspark.init()\n",
        "\n",
        "from pyspark.sql import SparkSession\n",
        "spark = SparkSession.builder.master(\"local[*]\").getOrCreate()\n",
        "sc = spark.sparkContext"
      ],
      "execution_count": null,
      "outputs": []
    },
    {
      "cell_type": "code",
      "metadata": {
        "id": "h6AZ5rSts4IS"
      },
      "source": [
        "# load the file and persist the RDD in memory\n",
        "rdd = sc.textFile('network.txt').persist()"
      ],
      "execution_count": null,
      "outputs": []
    },
    {
      "cell_type": "code",
      "metadata": {
        "id": "2AwXpRUQs7vA"
      },
      "source": [
        "# this is how we compute contribute score for each link.\n",
        "# for example, if a page's rank is 1.0 and it has 2 outgoing links, each links will have contribution 0.5.\n",
        "# (neighbors=[page1, page2], rank=1.0)  => ([(page1, 0.5), (page2,0.5)])\n",
        "def computeContribs(neighbors, rank):\n",
        "  for neighbor in neighbors:\n",
        "      yield (neighbor, rank/len(neighbors))"
      ],
      "execution_count": null,
      "outputs": []
    },
    {
      "cell_type": "code",
      "metadata": {
        "id": "rpUrVNMws9Au",
        "outputId": "8929a2e5-95c5-4536-d964-cebaa9d24894",
        "colab": {
          "base_uri": "https://localhost:8080/",
          "height": 90
        }
      },
      "source": [
        "# TO COMPLETE: for each page, output its outgoing neighbors in a list.\n",
        "# For example: page3 has two outgoing links to page 1 and page4, the output will be (page3, [page1, page4])\n",
        "# The content of linksRDD is:\n",
        "# page4 [u'page1', u'page2']\n",
        "# page2 [u'page1']\n",
        "# page3 [u'page1', u'page4']\n",
        "# page1 [u'page3']\n",
        "\n",
        "linksRDD = rdd.map(lambda s: s.split(\" \")).reduceByKey(lambda a, b: [a, b]).map(lambda s: (s[0], [s[1]]) if isinstance(s[1], str) else (s[0], s[1]))\n",
        "#linksRDD.collect()"
      ],
      "execution_count": null,
      "outputs": [
        {
          "output_type": "execute_result",
          "data": {
            "text/plain": [
              "[('page1', ['page3']),\n",
              " ('page2', ['page1']),\n",
              " ('page4', ['page1', 'page2']),\n",
              " ('page3', ['page1', 'page4'])]"
            ]
          },
          "metadata": {
            "tags": []
          },
          "execution_count": 189
        }
      ]
    },
    {
      "cell_type": "code",
      "metadata": {
        "id": "AK6buXDys-hW",
        "outputId": "7546c402-8a43-43bc-ff82-6c2fc5548e14",
        "colab": {
          "base_uri": "https://localhost:8080/",
          "height": 35
        }
      },
      "source": [
        "# TO COMPLETE: for each page, initialize its pagerank score to be 1.0\n",
        "# The content of ranksRDD is:\n",
        "# [(u'page4', 1.0), (u'page2', 1.0), (u'page3', 1.0), (u'page1', 1.0)]\n",
        "\n",
        "ranksRDD = linksRDD.groupByKey().map(lambda s: (s[0], 1.0))\n",
        "#ranksRDD.collect()"
      ],
      "execution_count": null,
      "outputs": [
        {
          "output_type": "execute_result",
          "data": {
            "text/plain": [
              "[('page1', 1.0), ('page2', 1.0), ('page4', 1.0), ('page3', 1.0)]"
            ]
          },
          "metadata": {
            "tags": []
          },
          "execution_count": 190
        }
      ]
    },
    {
      "cell_type": "code",
      "metadata": {
        "id": "AJ2nDNFqtBz1"
      },
      "source": [
        "# TO COMPLETE: PageRank is an iterative algorithm.\n",
        "# For each iteration, each page's pagerank score will be updated.\n",
        "# Refer to lecture slides for method details.\n",
        "for iteration in range(10):\n",
        "    # calculate the contribution of each page's outgoing link\n",
        "\n",
        "    contribs = linksRDD.join(ranksRDD).flatMap(lambda s: computeContribs(s[1][0],s[1][1]))\n",
        "    #contribs.collect()\n",
        "\n",
        "    # update each page's page rank by summing up all incoming link's contribution\n",
        "    ranksRDD = contribs.reduceByKey(lambda a, b: a+b)\n",
        "    #ranksRDD.collect()"
      ],
      "execution_count": null,
      "outputs": []
    },
    {
      "cell_type": "code",
      "metadata": {
        "id": "6fhCvaB4tCc5",
        "outputId": "458b1ad6-fa65-41c5-9597-9ea47fa881fa",
        "colab": {
          "base_uri": "https://localhost:8080/",
          "height": 90
        }
      },
      "source": [],
      "execution_count": null,
      "outputs": [
        {
          "output_type": "execute_result",
          "data": {
            "text/plain": [
              "[('page4', 0.7109375),\n",
              " ('page2', 0.375),\n",
              " ('page1', 1.4296875),\n",
              " ('page3', 1.484375)]"
            ]
          },
          "metadata": {
            "tags": []
          },
          "execution_count": 192
        }
      ]
    }
  ]
}