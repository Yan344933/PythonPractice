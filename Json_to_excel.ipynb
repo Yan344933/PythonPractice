{
  "nbformat": 4,
  "nbformat_minor": 0,
  "metadata": {
    "colab": {
      "provenance": [],
      "mount_file_id": "1lLLje9rkRG9Ft-1yCCPvzJMqGu01D-gz",
      "authorship_tag": "ABX9TyO0hz8g+YG4Oc58LCvoR213",
      "include_colab_link": true
    },
    "kernelspec": {
      "display_name": "Python 3",
      "name": "python3"
    },
    "language_info": {
      "name": "python"
    }
  },
  "cells": [
    {
      "cell_type": "markdown",
      "metadata": {
        "id": "view-in-github",
        "colab_type": "text"
      },
      "source": [
        "<a href=\"https://colab.research.google.com/github/Yan344933/PythonPractice/blob/ExcelToJson/Json_to_excel.ipynb\" target=\"_parent\"><img src=\"https://colab.research.google.com/assets/colab-badge.svg\" alt=\"Open In Colab\"/></a>"
      ]
    },
    {
      "cell_type": "markdown",
      "metadata": {
        "id": "Gs-KWgtKuYel"
      },
      "source": [
        "2021-06-06 19:32\n",
        "\n",
        "Can't run get KMB\n",
        "Connection error 104\n",
        "\n",
        "---\n",
        "\n",
        "2021-06-06 14:39\n",
        "\n",
        "Exported CTB\n",
        "\n",
        "going to export NWFB\n",
        "\n",
        "Bug: Same orig and Dest for inbound and outbound (18:31 Fixed in excel)\n",
        "\n",
        "---\n",
        "\n",
        "\n",
        " 2021-06-05 23:10\n",
        "\n",
        "Need to re-run CTB\n",
        "-> Add seq in stop sheet\n",
        "Run CTB, NWFB\n",
        "\n",
        "KMB not yet implemented\n"
      ]
    },
    {
      "cell_type": "code",
      "metadata": {
        "id": "m_KJvBPsJg_W"
      },
      "source": [
        "import pandas as pd\n",
        "import requests\n",
        "\n",
        "data_CTB = requests.get('https://rt.data.gov.hk/v1/transport/citybus-nwfb/route/CTB/').json()['data']\n",
        "data_NWFB = requests.get('https://rt.data.gov.hk/v1/transport/citybus-nwfb/route/NWFB/').json()['data']"
      ],
      "execution_count": null,
      "outputs": []
    },
    {
      "cell_type": "code",
      "metadata": {
        "id": "mONDIx-sKxNp"
      },
      "source": [
        "## Reference only\n",
        "\n",
        "df = pd.DataFrame.from_dict(data_CTB.json()['data'])\n",
        "df2 = pd.DataFrame.from_dict(data_NWFB.json()['data'])\n",
        "df = df.append(df2, ignore_index=True)"
      ],
      "execution_count": null,
      "outputs": []
    },
    {
      "cell_type": "code",
      "metadata": {
        "id": "Mk37hu2WNygf"
      },
      "source": [
        "routeList = []\n",
        "route_count = 1\n",
        "StopList = []\n",
        "stop_count = 1"
      ],
      "execution_count": null,
      "outputs": []
    },
    {
      "cell_type": "code",
      "metadata": {
        "id": "8UH_T8zhQj2W"
      },
      "source": [
        "CTB_Base = 'https://rt.data.gov.hk/'\n",
        "directions = ['inbound', 'outbound']"
      ],
      "execution_count": null,
      "outputs": []
    },
    {
      "cell_type": "code",
      "metadata": {
        "id": "0-j9Eqf9REOt"
      },
      "source": [
        "print(data_CTB)"
      ],
      "execution_count": null,
      "outputs": []
    },
    {
      "cell_type": "code",
      "metadata": {
        "id": "UllHt7zTUyrh"
      },
      "source": [
        "def addRoute(co, route_data, direction):\n",
        "  global route_count\n",
        "  route_dict = {}\n",
        "  if co != 'KMB':\n",
        "    route_dict['id'] = route_count\n",
        "    route_dict['route'] = route_data['route']\n",
        "    route_dict['CTB'] = True if co =='CTB' else False\n",
        "    route_dict['NWFB'] = True if co =='NWFB' else False\n",
        "    route_dict['KMB'] = False\n",
        "    route_dict['direction'] = direction\n",
        "\n",
        "    if direction = 'inbound':\n",
        "      route_dict['origin'] = route_data['dest_tc']\n",
        "      route_dict['destination'] = route_data['orig_tc']\n",
        "    else:\n",
        "      route_dict['origin'] = route_data['orig_tc']\n",
        "      route_dict['destination'] = route_data['dest_tc']\n",
        "\n",
        "    route_dict['service_type'] = 0\n",
        "  else:\n",
        "    route_dict['id'] = route_count\n",
        "    route_dict['route'] = route_data['route']\n",
        "    route_dict['CTB'] = False\n",
        "    route_dict['NWFB'] = False\n",
        "    route_dict['KMB'] = True\n",
        "    route_dict['origin'] = route_data['orig_tc']\n",
        "    route_dict['destination'] = route_data['dest_tc']\n",
        "    route_dict['direction'] = 'inbound' if route_data['bound'] == 'I' else 'outbound'\n",
        "    route_dict['service_type'] = int(route_data['service_type'])\n",
        "\n",
        "  print('-- Add Route ' + route_dict['route'] + ' ' + route_dict['direction'] + ' ' + str(route_count) + ' --')\n",
        "  route_count += 1\n",
        "  routeList.append(route_dict)"
      ],
      "execution_count": null,
      "outputs": []
    },
    {
      "cell_type": "code",
      "metadata": {
        "id": "hh20fVKIXrFH"
      },
      "source": [
        "def addStop(stop_data, route_id, seq):\n",
        "  global stop_count\n",
        "  stop_dict = {}\n",
        "  stop_dict['id'] = stop_count\n",
        "  stop_dict['stop'] = stop_data['stop']\n",
        "  stop_dict['route'] = route_id\n",
        "  stop_dict['name'] = stop_data['name_tc']\n",
        "  stop_dict['lat'] = stop_data['lat']\n",
        "  stop_dict['long'] = stop_data['long']\n",
        "  stop_dict['sequence'] = seq\n",
        "  print('-- Add Stop ' + stop_dict['name'] + ' ' + str(stop_count) + ' --')\n",
        "  stop_count += 1\n",
        "  StopList.append(stop_dict)"
      ],
      "execution_count": null,
      "outputs": []
    },
    {
      "cell_type": "code",
      "metadata": {
        "id": "Jb0s80cBP7ng"
      },
      "source": [
        "#for CTB and NWFB only\n",
        "\n",
        "for route in data_CTB:\n",
        "  # check if cycle route\n",
        "  for direction in directions:\n",
        "    stops = requests.get(CTB_Base + 'v1/transport/citybus-nwfb/route-stop/CTB/'+route['route']+'/'+direction).json()['data']\n",
        "    if stops != []:\n",
        "      addRoute('CTB', route, direction)\n",
        "    for stop in stops:\n",
        "      stop_data = requests.get(CTB_Base + 'v1/transport/citybus-nwfb/stop/' + stop['stop']).json()['data']\n",
        "      addStop(stop_data, route_count-1, stop['seq'])\n",
        "\n",
        "write_excel('CTB')"
      ],
      "execution_count": null,
      "outputs": []
    },
    {
      "cell_type": "code",
      "metadata": {
        "id": "torBYDk8FuZH"
      },
      "source": [
        "routeList = []\n",
        "route_count = 1\n",
        "StopList = []\n",
        "stop_count = 1\n",
        "\n",
        "for route in data_NWFB:\n",
        "  # check if cycle route\n",
        "  for direction in directions:\n",
        "    stops = requests.get(CTB_Base + 'v1/transport/citybus-nwfb/route-stop/NWFB/'+route['route']+'/'+direction).json()['data']\n",
        "    if stops != []:\n",
        "      addRoute('NWFB', route, direction)\n",
        "    for stop in stops:\n",
        "      stop_data = requests.get(CTB_Base + 'v1/transport/citybus-nwfb/stop/' + stop['stop']).json()['data']\n",
        "      addStop(stop_data, route_count-1, stop['seq'])\n",
        "\n",
        "write_excel('NWFB')"
      ],
      "execution_count": null,
      "outputs": []
    },
    {
      "cell_type": "code",
      "metadata": {
        "id": "-9h8IqDYaqnn"
      },
      "source": [
        "# write to excel\n",
        "from openpyxl import load_workbook\n",
        "def write_excel(sheet_name):\n",
        "  path = './drive/MyDrive/exported_excel.xlsx'\n",
        "  #book = load_workbook(path)\n",
        "  #writer = pd.ExcelWriter(path, engine = 'openpyxl')\n",
        "\n",
        "  route_df = pd.DataFrame.from_dict(routeList)\n",
        "  stop_df = pd.DataFrame.from_dict(StopList)\n",
        "\n",
        "  with pd.ExcelWriter(path,mode='a') as writer:\n",
        "    route_df.to_excel(writer, sheet_name=(sheet_name + ' route'))\n",
        "    stop_df.to_excel(writer, sheet_name=(sheet_name + ' stop'))\n",
        "    writer.save()\n",
        "\n",
        "  print(str(route_count) + ' route records have been written.')\n",
        "  print(str(stop_count) + ' stop records have been written.')\n",
        "  #writer.close()"
      ],
      "execution_count": null,
      "outputs": []
    },
    {
      "cell_type": "markdown",
      "metadata": {
        "id": "EOd6itax4c-G"
      },
      "source": [
        "## KMB"
      ]
    },
    {
      "cell_type": "code",
      "metadata": {
        "id": "Hk8Xr4W14oIM"
      },
      "source": [
        "KMB_base = 'https://data.etabus.gov.hk/'\n",
        "data_KMB = requests.get(KMB_base + 'v1/transport/kmb/route/').json()['data']"
      ],
      "execution_count": null,
      "outputs": []
    },
    {
      "cell_type": "code",
      "metadata": {
        "id": "tV4VcsW64cRk"
      },
      "source": [
        "for route in data_KMB[route_count-3:]:\n",
        "  addRoute('KMB', route, \"\")\n",
        "  route_stops = requests.get(KMB_base + 'v1/transport/kmb/route-stop/' + route['route'] + '/'+ ('inbound' if route['bound'] == 'I' else 'outbound') +\n",
        "                                 '/' + route['service_type']).json()['data']\n",
        "  for stop in route_stops:\n",
        "    stop_data = requests.get(KMB_base + 'v1/transport/kmb/stop/' + stop['stop']).json()['data']\n",
        "    addStop(stop_data, route_count - 1, stop['seq'])\n",
        "\n",
        "write_excel('KMB')"
      ],
      "execution_count": null,
      "outputs": []
    },
    {
      "cell_type": "code",
      "metadata": {
        "id": "DtgWG882wmoj"
      },
      "source": [
        "path = './drive/MyDrive/exported_excel.xlsx'\n",
        "  #book = load_workbook(path)\n",
        "  #writer = pd.ExcelWriter(path, engine = 'openpyxl')\n",
        "\n",
        "route_df = pd.DataFrame.from_dict(routeList)\n",
        "stop_df = pd.DataFrame.from_dict(StopList)\n",
        "\n",
        "with pd.ExcelWriter(path,mode='a') as writer:\n",
        "  route_df.to_excel(writer, sheet_name='KMB_Route')\n",
        "  stop_df.to_excel(writer, sheet_name='KMB_Stop')\n",
        "  writer.save()"
      ],
      "execution_count": null,
      "outputs": []
    },
    {
      "cell_type": "code",
      "metadata": {
        "id": "mAg1KqX6K6-3",
        "colab": {
          "base_uri": "https://localhost:8080/"
        },
        "outputId": "e358f211-e4f2-40b8-9599-7eefbedea35c"
      },
      "source": [
        "print(route_count)\n",
        "print(stop_count)\n",
        "print(data_KMB[route_count-3])\n",
        "print(str(len(data_KMB)))"
      ],
      "execution_count": null,
      "outputs": [
        {
          "output_type": "stream",
          "text": [
            "979\n",
            "21667\n",
            "{'route': '290B', 'bound': 'O', 'service_type': '1', 'orig_en': 'TSEUNG KWAN O INDUSTRIAL ESTATE', 'orig_tc': '將軍澳工業邨', 'orig_sc': '将军澳工业邨', 'dest_en': 'TSUEN WAN WEST STATION', 'dest_tc': '荃灣西站', 'dest_sc': '荃湾西站'}\n",
            "1404\n"
          ],
          "name": "stdout"
        }
      ]
    }
  ]
}